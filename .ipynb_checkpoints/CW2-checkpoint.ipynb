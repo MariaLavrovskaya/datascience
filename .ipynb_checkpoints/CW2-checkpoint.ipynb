{
 "cells": [
  {
   "cell_type": "code",
   "execution_count": 1,
   "id": "loving-processing",
   "metadata": {},
   "outputs": [],
   "source": [
    "import numpy as np\n",
    "import pandas as pd\n",
    "import statsmodels.api as sm\n",
    "from patsy import dmatrices\n",
    "import seaborn as sns"
   ]
  },
  {
   "cell_type": "markdown",
   "id": "ruled-devices",
   "metadata": {},
   "source": [
    "Plan of working: \n",
    "1. Find the way to extract all the restaurants and all the categories related to that. - DONE\n",
    "2. Count the number of tips related to one restaurant.  - DONE\n",
    "3. Count the number of checkins that are done for one place. \n",
    "4. Do the correlation analysis for both (Pearson and Spierman coefficients)\n"
   ]
  },
  {
   "cell_type": "code",
   "execution_count": 2,
   "id": "healthy-vision",
   "metadata": {},
   "outputs": [],
   "source": [
    "data = pd.read_json('/Users/user/Desktop/UCL_CS_Masters/datascience/coding/codes/datascience/CW2/yelp_academic_dataset_business.json', lines=True)"
   ]
  },
  {
   "cell_type": "code",
   "execution_count": 3,
   "id": "afraid-right",
   "metadata": {},
   "outputs": [],
   "source": [
    "data = data.loc[data['state'] == 'AZ'] #locking only entries related to the specific state\n",
    "# categories = data['categories'].unique() #checking for the unique categories\n",
    "data = data.where(data['categories'].str.contains('Restaurants') == True).dropna() #only living the values that contain category 'Restaurants'"
   ]
  },
  {
   "cell_type": "code",
   "execution_count": 4,
   "id": "contained-tolerance",
   "metadata": {},
   "outputs": [],
   "source": [
    "tips = pd.read_json('/Users/user/Desktop/UCL_CS_Masters/datascience/Courseworks/CW1/yelp_dataset/yelp_academic_dataset_tip.json', lines=True)"
   ]
  },
  {
   "cell_type": "code",
   "execution_count": 5,
   "id": "corporate-comparison",
   "metadata": {},
   "outputs": [],
   "source": [
    "# Count the number of reviews\n",
    "tips_counts = pd.DataFrame(tips['business_id'].value_counts()).reset_index()\n",
    "tips_counts = tips_counts.rename(columns={'index': 'business_id', 'business_id': 'tips_count'})\n",
    "# Merging the dataset with tips\n",
    "data = pd.merge(data, tips_counts, on='business_id')"
   ]
  },
  {
   "cell_type": "code",
   "execution_count": 7,
   "id": "several-rider",
   "metadata": {},
   "outputs": [],
   "source": [
    "checkins = pd.read_json('/Users/user/Desktop/UCL_CS_Masters/datascience/Courseworks/CW1/yelp_dataset/yelp_academic_dataset_checkin.json', lines=True)"
   ]
  },
  {
   "cell_type": "code",
   "execution_count": 205,
   "id": "artificial-maker",
   "metadata": {},
   "outputs": [],
   "source": [
    "# checkins['date'].str.extract(r'(2[0-3]|[01][0-9]|[0-9]):([0-5][0-9]|[0-9]):([0-5][0-9]|[0-9])')\n",
    "checkins['date'] = checkins['date'].str.split(\",\")"
   ]
  },
  {
   "cell_type": "code",
   "execution_count": 21,
   "id": "original-surface",
   "metadata": {},
   "outputs": [
    {
     "data": {
      "text/plain": [
       "['2016-07-08 16:43:30']"
      ]
     },
     "execution_count": 21,
     "metadata": {},
     "output_type": "execute_result"
    }
   ],
   "source": [
    "checks = checkins['date'].str.split(\",\")\n",
    "checks_int = [len(checks[index]) for index in range(len(checks))]\n",
    "checkins['checks_int'] = checks_int"
   ]
  },
  {
   "cell_type": "code",
   "execution_count": 18,
   "id": "willing-empire",
   "metadata": {},
   "outputs": [],
   "source": [
    "checkins['checks_int'] = checks_int"
   ]
  },
  {
   "cell_type": "raw",
   "id": "disturbed-fortune",
   "metadata": {},
   "source": [
    "y, X = dmatrices('stars ~ review_count + is_open + city', data=data.loc[data['categories'] == 'Restaurants'], return_type='dataframe')"
   ]
  },
  {
   "cell_type": "code",
   "execution_count": null,
   "id": "logical-shore",
   "metadata": {},
   "outputs": [],
   "source": [
    "checkins['date'].str.split(\",\")"
   ]
  },
  {
   "cell_type": "code",
   "execution_count": 93,
   "id": "spanish-russia",
   "metadata": {},
   "outputs": [
    {
     "data": {
      "text/plain": [
       "1320761"
      ]
     },
     "execution_count": 93,
     "metadata": {},
     "output_type": "execute_result"
    }
   ],
   "source": []
  },
  {
   "cell_type": "code",
   "execution_count": 51,
   "id": "spectacular-injury",
   "metadata": {},
   "outputs": [
    {
     "name": "stdout",
     "output_type": "stream",
     "text": [
      "                            OLS Regression Results                            \n",
      "==============================================================================\n",
      "Dep. Variable:                  stars   R-squared:                       0.411\n",
      "Model:                            OLS   Adj. R-squared:                 -0.059\n",
      "Method:                 Least Squares   F-statistic:                    0.8748\n",
      "Date:                Fri, 02 Apr 2021   Prob (F-statistic):              0.754\n",
      "Time:                        13:38:02   Log-Likelihood:                -225.58\n",
      "No. Observations:                 222   AIC:                             649.2\n",
      "Df Residuals:                     123   BIC:                             986.0\n",
      "Df Model:                          98                                         \n",
      "Covariance Type:            nonrobust                                         \n",
      "====================================================================================================\n",
      "                                       coef    std err          t      P>|t|      [0.025      0.975]\n",
      "----------------------------------------------------------------------------------------------------\n",
      "Intercept                            2.1649      0.637      3.400      0.001       0.905       3.425\n",
      "city[T.Akron]                       -0.1892      1.153     -0.164      0.870      -2.471       2.092\n",
      "city[T.Ange-Gardien]                -0.6505      1.114     -0.584      0.561      -2.857       1.556\n",
      "city[T.Aspinwall]                    1.1933      1.100      1.085      0.280      -0.985       3.371\n",
      "city[T.Avondale]                     1.8211      1.115      1.634      0.105      -0.385       4.027\n",
      "city[T.Bellevue]                     2.2500      1.100      2.046      0.043       0.073       4.427\n",
      "city[T.Brossard]                     0.8796      0.907      0.970      0.334      -0.916       2.676\n",
      "city[T.Calgary]                      0.8090      0.742      1.090      0.278      -0.661       2.279\n",
      "city[T.Candiac]                      0.3495      1.114      0.314      0.754      -1.857       2.556\n",
      "city[T.Carefree]                     1.2500      1.100      1.137      0.258      -0.927       3.427\n",
      "city[T.Champaign]                    1.6366      1.102      1.486      0.140      -0.544       3.817\n",
      "city[T.Chandler]                     0.8261      0.722      1.144      0.255      -0.603       2.255\n",
      "city[T.Charlotte]                    0.9522      0.722      1.319      0.190      -0.477       2.382\n",
      "city[T.Clarkson]                     0.8211      1.115      0.737      0.463      -1.385       3.027\n",
      "city[T.Cleveland]                    0.8142      0.687      1.186      0.238      -0.545       2.174\n",
      "city[T.Columbia Station]             1.7644      1.115      1.582      0.116      -0.443       3.972\n",
      "city[T.Concord]                      1.6227      1.121      1.447      0.150      -0.597       3.842\n",
      "city[T.Cornelius]                    1.6649      1.101      1.512      0.133      -0.514       3.844\n",
      "city[T.Coteau-Du-Lac]                0.8495      1.114      0.762      0.447      -1.357       3.056\n",
      "city[T.Cottage Grove]                2.0660      1.125      1.836      0.069      -0.161       4.293\n",
      "city[T.Cuyahoga Falls]               0.2938      0.823      0.357      0.722      -1.334       1.922\n",
      "city[T.Dallas]                       2.8495      1.114      2.557      0.012       0.643       5.056\n",
      "city[T.Dorval]                       1.0853      0.916      1.185      0.238      -0.728       2.898\n",
      "city[T.East York]                    1.2216      1.100      1.111      0.269      -0.956       3.399\n",
      "city[T.Etobicoke]                    0.2216      1.100      0.202      0.841      -1.956       2.399\n",
      "city[T.Euclid]                       1.6510      1.120      1.475      0.143      -0.565       3.867\n",
      "city[T.Fitchburg]                   -0.2500      1.100     -0.227      0.821      -2.427       1.927\n",
      "city[T.Fort Mill]                    0.7874      0.906      0.869      0.386      -1.005       2.580\n",
      "city[T.Gilbert]                      0.6605      0.846      0.781      0.436      -1.013       2.334\n",
      "city[T.Glendale]                     0.9587      0.760      1.262      0.209      -0.545       2.462\n",
      "city[T.Hemmingford]                  2.8495      1.114      2.557      0.012       0.643       5.056\n",
      "city[T.Henderson]                    0.8219      0.780      1.053      0.294      -0.722       2.366\n",
      "city[T.Imperial]                     0.3211      1.115      0.288      0.774      -1.885       2.527\n",
      "city[T.Indian Trail]                 0.4845      1.177      0.412      0.681      -1.846       2.815\n",
      "city[T.Joliette]                     2.8495      1.114      2.557      0.012       0.643       5.056\n",
      "city[T.Kent]                         0.8211      1.115      0.737      0.463      -1.385       3.027\n",
      "city[T.Kirkland]                     1.2786      0.917      1.395      0.166      -0.536       3.093\n",
      "city[T.Lachenaie]                    1.2928      1.115      1.160      0.248      -0.914       3.500\n",
      "city[T.Lachine]                      1.2928      1.115      1.160      0.248      -0.914       3.500\n",
      "city[T.Las Vegas]                    1.1268      0.707      1.594      0.113      -0.272       2.526\n",
      "city[T.Laval]                        1.5995      0.916      1.746      0.083      -0.213       3.412\n",
      "city[T.Litchfield]                   2.0376      1.127      1.807      0.073      -0.194       4.269\n",
      "city[T.Longueuil]                    1.3495      1.114      1.211      0.228      -0.857       3.556\n",
      "city[T.Madison]                      0.7560      0.739      1.024      0.308      -0.706       2.218\n",
      "city[T.Mantua]                       1.3495      1.114      1.211      0.228      -0.857       3.556\n",
      "city[T.Markham]                      1.2077      0.843      1.433      0.154      -0.461       2.876\n",
      "city[T.Mc Kees Rocks]                1.1794      1.118      1.055      0.294      -1.034       3.393\n",
      "city[T.McKeesport]                   2.2077      1.117      1.976      0.050      -0.004       4.419\n",
      "city[T.Mentor]                       0.5497      0.903      0.609      0.544      -1.237       2.336\n",
      "city[T.Mesa]                         1.3985      0.743      1.882      0.062      -0.073       2.870\n",
      "city[T.Middleton]                    0.7500      1.100      0.682      0.497      -1.427       2.927\n",
      "city[T.Mississauga]                  0.6393      0.783      0.816      0.416      -0.911       2.189\n",
      "city[T.Mont-Royal]                   2.1794      1.118      1.949      0.054      -0.034       4.393\n",
      "city[T.Montreal]                     1.2928      1.115      1.160      0.248      -0.914       3.500\n",
      "city[T.Montreal-Nord]                1.3495      1.114      1.211      0.228      -0.857       3.556\n",
      "city[T.Montréal]                     1.1471      0.692      1.658      0.100      -0.222       2.517\n",
      "city[T.New Kensington]               0.7147      0.904      0.791      0.431      -1.074       2.504\n",
      "city[T.Newmarket]                    1.7644      1.115      1.582      0.116      -0.443       3.972\n",
      "city[T.North York]                   0.7928      1.115      0.711      0.478      -1.414       3.000\n",
      "city[T.Paradise Valley]             -0.0142      0.898     -0.016      0.987      -1.792       1.763\n",
      "city[T.Phoenix]                      0.8079      0.687      1.176      0.242      -0.551       2.167\n",
      "city[T.Pineville]                    0.5286      0.917      0.577      0.565      -1.286       2.343\n",
      "city[T.Pittsburgh]                   0.8773      0.728      1.206      0.230      -0.563       2.318\n",
      "city[T.Pointe-Claire]               -0.6505      1.114     -0.584      0.561      -2.857       1.556\n",
      "city[T.Richmond Hill]                0.2644      1.115      0.237      0.813      -1.943       2.472\n",
      "city[T.Rock Hill]                    0.3495      1.114      0.314      0.754      -1.857       2.556\n",
      "city[T.Saint-Charles-Borromee]       1.8211      1.115      1.634      0.105      -0.385       4.027\n",
      "city[T.Saint-Hubert]                 1.3495      1.114      1.211      0.228      -0.857       3.556\n",
      "city[T.Saint-Jean-sur-Richelieu]     0.8211      1.115      0.737      0.463      -1.385       3.027\n",
      "city[T.Saint-Lambert]                1.3495      1.114      1.211      0.228      -0.857       3.556\n",
      "city[T.Saint-Laurent]                0.2361      1.116      0.212      0.833      -1.973       2.445\n",
      "city[T.Saint-Leonard]                1.5072      0.903      1.669      0.098      -0.280       3.294\n",
      "city[T.Sainte-Adele]                 2.2928      1.115      2.057      0.042       0.086       4.500\n",
      "city[T.Sainte-Julie]                 0.3495      1.114      0.314      0.754      -1.857       2.556\n",
      "city[T.Salaberry-De-Valleyfield]     1.8495      1.114      1.659      0.100      -0.357       4.056\n",
      "city[T.Savoy]                        0.2500      1.100      0.227      0.821      -1.927       2.427\n",
      "city[T.Scottsdale]                   0.4087      0.728      0.561      0.576      -1.033       1.850\n",
      "city[T.Stoughton]                    1.0376      1.127      0.920      0.359      -1.194       3.269\n",
      "city[T.Streetsboro]                 -0.2639      1.116     -0.236      0.813      -2.473       1.945\n",
      "city[T.Surprise]                     0.7500      1.100      0.682      0.497      -1.427       2.927\n",
      "city[T.Tempe]                        0.5000      0.898      0.557      0.579      -1.278       2.278\n",
      "city[T.Terrebonne]                   1.8353      0.916      2.004      0.047       0.022       3.648\n",
      "city[T.Thornhill]                   -0.2072      1.115     -0.186      0.853      -2.414       2.000\n",
      "city[T.Toronto]                      0.4837      0.730      0.663      0.509      -0.961       1.928\n",
      "city[T.Trafford]                     0.4948      1.109      0.446      0.656      -1.700       2.689\n",
      "city[T.Twinsburg]                    1.6082      1.103      1.459      0.147      -0.574       3.791\n",
      "city[T.Urbana]                      -0.2286      0.903     -0.253      0.800      -2.015       1.558\n",
      "city[T.Val-Morin]                    2.2361      1.116      2.003      0.047       0.027       4.445\n",
      "city[T.Varennes]                     1.3495      1.114      1.211      0.228      -0.857       3.556\n",
      "city[T.Vaudreuil-Dorion]             1.8211      1.115      1.634      0.105      -0.385       4.027\n",
      "city[T.Verona]                       0.7500      1.100      0.682      0.497      -1.427       2.927\n",
      "city[T.West Mifflin]                 2.0356      0.903      2.255      0.026       0.249       3.822\n",
      "city[T.Wexford]                      1.1510      0.922      1.248      0.214      -0.674       2.976\n",
      "city[T.White Oak]                    0.8495      1.114      0.762      0.447      -1.357       3.056\n",
      "city[T.Wickliffe]                    1.3495      1.114      1.211      0.228      -0.857       3.556\n",
      "city[T.Willoughby]                   1.3495      1.114      1.211      0.228      -0.857       3.556\n",
      "city[T.York]                         2.3495      1.114      2.108      0.037       0.143       4.556\n",
      "review_count                         0.0284      0.016      1.824      0.071      -0.002       0.059\n",
      "is_open                             -0.0995      0.180     -0.553      0.582      -0.456       0.257\n",
      "==============================================================================\n",
      "Omnibus:                        7.836   Durbin-Watson:                   2.074\n",
      "Prob(Omnibus):                  0.020   Jarque-Bera (JB):               14.051\n",
      "Skew:                           0.028   Prob(JB):                     0.000889\n",
      "Kurtosis:                       4.231   Cond. No.                         842.\n",
      "==============================================================================\n",
      "\n",
      "Notes:\n",
      "[1] Standard Errors assume that the covariance matrix of the errors is correctly specified.\n"
     ]
    }
   ],
   "source": [
    "mod = sm.OLS(y, X)    # Describe model\n",
    "\n",
    "res = mod.fit()       # Fit model\n",
    "\n",
    "print(res.summary())"
   ]
  },
  {
   "cell_type": "code",
   "execution_count": 63,
   "id": "unable-sigma",
   "metadata": {},
   "outputs": [
    {
     "data": {
      "text/html": [
       "<div>\n",
       "<style scoped>\n",
       "    .dataframe tbody tr th:only-of-type {\n",
       "        vertical-align: middle;\n",
       "    }\n",
       "\n",
       "    .dataframe tbody tr th {\n",
       "        vertical-align: top;\n",
       "    }\n",
       "\n",
       "    .dataframe thead th {\n",
       "        text-align: right;\n",
       "    }\n",
       "</style>\n",
       "<table border=\"1\" class=\"dataframe\">\n",
       "  <thead>\n",
       "    <tr style=\"text-align: right;\">\n",
       "      <th></th>\n",
       "      <th>latitude</th>\n",
       "      <th>longitude</th>\n",
       "      <th>stars</th>\n",
       "      <th>review_count</th>\n",
       "      <th>is_open</th>\n",
       "    </tr>\n",
       "  </thead>\n",
       "  <tbody>\n",
       "    <tr>\n",
       "      <th>latitude</th>\n",
       "      <td>1.000000</td>\n",
       "      <td>0.681111</td>\n",
       "      <td>0.089509</td>\n",
       "      <td>-0.166155</td>\n",
       "      <td>0.384316</td>\n",
       "    </tr>\n",
       "    <tr>\n",
       "      <th>longitude</th>\n",
       "      <td>0.681111</td>\n",
       "      <td>1.000000</td>\n",
       "      <td>0.109612</td>\n",
       "      <td>-0.118932</td>\n",
       "      <td>0.308868</td>\n",
       "    </tr>\n",
       "    <tr>\n",
       "      <th>stars</th>\n",
       "      <td>0.089509</td>\n",
       "      <td>0.109612</td>\n",
       "      <td>1.000000</td>\n",
       "      <td>0.132698</td>\n",
       "      <td>0.098573</td>\n",
       "    </tr>\n",
       "    <tr>\n",
       "      <th>review_count</th>\n",
       "      <td>-0.166155</td>\n",
       "      <td>-0.118932</td>\n",
       "      <td>0.132698</td>\n",
       "      <td>1.000000</td>\n",
       "      <td>-0.051312</td>\n",
       "    </tr>\n",
       "    <tr>\n",
       "      <th>is_open</th>\n",
       "      <td>0.384316</td>\n",
       "      <td>0.308868</td>\n",
       "      <td>0.098573</td>\n",
       "      <td>-0.051312</td>\n",
       "      <td>1.000000</td>\n",
       "    </tr>\n",
       "  </tbody>\n",
       "</table>\n",
       "</div>"
      ],
      "text/plain": [
       "              latitude  longitude     stars  review_count   is_open\n",
       "latitude      1.000000   0.681111  0.089509     -0.166155  0.384316\n",
       "longitude     0.681111   1.000000  0.109612     -0.118932  0.308868\n",
       "stars         0.089509   0.109612  1.000000      0.132698  0.098573\n",
       "review_count -0.166155  -0.118932  0.132698      1.000000 -0.051312\n",
       "is_open       0.384316   0.308868  0.098573     -0.051312  1.000000"
      ]
     },
     "execution_count": 63,
     "metadata": {},
     "output_type": "execute_result"
    }
   ],
   "source": [
    "data.loc[data['categories'] == 'Restaurants'].corr(method = 'spearman')"
   ]
  },
  {
   "cell_type": "code",
   "execution_count": 62,
   "id": "sacred-minimum",
   "metadata": {},
   "outputs": [
    {
     "data": {
      "image/png": "[encoded data removed]",
      "text/plain": [
       "<Figure size 360x360 with 1 Axes>"
      ]
     },
     "metadata": {
      "needs_background": "light"
     },
     "output_type": "display_data"
    }
   ],
   "source": [
    "sns.relplot(x=\"longitude\", y=\"review_count\", palette=\"ch:r=-.5,l=.75\", data=data.loc[data['categories'] == 'Restaurants']);"
   ]
  },
  {
   "cell_type": "code",
   "execution_count": null,
   "id": "universal-threshold",
   "metadata": {},
   "outputs": [],
   "source": []
  }
 ],
 "metadata": {
  "kernelspec": {
   "display_name": "Python 3",
   "language": "python",
   "name": "python3"
  },
  "language_info": {
   "codemirror_mode": {
    "name": "ipython",
    "version": 3
   },
   "file_extension": ".py",
   "mimetype": "text/x-python",
   "name": "python",
   "nbconvert_exporter": "python",
   "pygments_lexer": "ipython3",
   "version": "3.8.6"
  }
 },
 "nbformat": 4,
 "nbformat_minor": 5
}
