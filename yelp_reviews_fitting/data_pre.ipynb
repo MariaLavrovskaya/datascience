{
 "metadata": {
  "language_info": {
   "codemirror_mode": {
    "name": "ipython",
    "version": 3
   },
   "file_extension": ".py",
   "mimetype": "text/x-python",
   "name": "python",
   "nbconvert_exporter": "python",
   "pygments_lexer": "ipython3",
   "version": 3
  },
  "orig_nbformat": 2
 },
 "nbformat": 4,
 "nbformat_minor": 2,
 "cells": [
  {
   "cell_type": "code",
   "execution_count": null,
   "metadata": {},
   "outputs": [],
   "source": [
    "import json\n",
    "import pandas as pd\n",
    "import numpy as np\n",
    "import math\n",
    "from scipy.stats import skew\n",
    "from scipy.stats import norm, kurtosis\n",
    "import matplotlib.pyplot as plt\n",
    "import seaborn as sns\n",
    "from  matplotlib.ticker import FuncFormatter\n",
    "from mpmath import nsum, exp, inf\n",
    "from scipy.special import zeta, polygamma, factorial\n",
    "from numpy.random import default_rng\n",
    "from scipy import special\n",
    "from scipy.special import zeta\n",
    "from scipy.stats import chisquare\n",
    "from scipy.stats import lognorm\n",
    "from scipy.stats import zipf\n",
    "from scipy import log\n",
    "from scipy.special import zeta\n",
    "from scipy.optimize import bisect \n",
    "import scipy.stats as stats\n",
    "plt.style.use(['fivethirtyeight'])\n",
    "np.set_printoptions(formatter={'float_kind':'{:f}'.format})\n",
    "rng = default_rng()\n",
    "plt.rcParams['font.family'] = 'serif'\n",
    "plt.rcParams.update({\n",
    "    \"text.usetex\": True})\n"
   ]
  },
  {
   "cell_type": "code",
   "execution_count": null,
   "metadata": {},
   "outputs": [],
   "source": [
    "#Importing JSON files one by one \n",
    "\n",
    "# Extracting the number of user reviews per user. Start with businesses JSON\n",
    "with open('path_to_the_file') as f:\n",
    "    data = [json.loads(line) for line in f]\n",
    "\n",
    "business = {'business_id': []}\n",
    "for i in range(len(data)):\n",
    "    if data[i]['state'] == 'QC':\n",
    "        business['business_id'].append(data[i]['business_id'])"
   ]
  },
  {
   "cell_type": "code",
   "execution_count": null,
   "metadata": {},
   "outputs": [],
   "source": [
    "#Extracting unique user ids from the reviews file according to the business id's (iterating through the nested dictionary)\n",
    "with open('/Users/user/Desktop/UCL_CS_Masters/datascience/coding/codes/datascience/data/yelp_academic_dataset_review.json') as f:\n",
    "    data = [json.loads(line) for line in f]\n",
    "users = dict()\n",
    "for i in range(len(data)):\n",
    "    if data[i]['user_id'] in users: \n",
    "        continue\n",
    "    elif data[i]['business_id'] in business['business_id']: \n",
    "        users[data[i]['user_id']] = 0"
   ]
  },
  {
   "cell_type": "code",
   "execution_count": null,
   "metadata": {},
   "outputs": [],
   "source": [
    "# Filtering. Getting just the user ids\n",
    "users_pd = pd.DataFrame.from_dict(users, orient = 'index')\n",
    "users_pd = users_pd.reset_index()\n",
    "users_pd = users_pd.drop(columns = ['index', '0'])\n",
    "users_pd.columns = ['user_id']"
   ]
  },
  {
   "cell_type": "code",
   "execution_count": null,
   "metadata": {},
   "outputs": [],
   "source": [
    "# Merging with the users JSON to get the review count per user (inner merge)\n",
    "data = pd.read_json('path_to_user_JSON', lines = True)\n",
    "# Removing all unnecessary columns \n",
    "data = data.drop(columns=['name', 'yelping_since', 'useful', 'funny', 'cool', 'elite', 'friends', 'fans', 'average_stars', 'compliment_hot', 'compliment_more', 'compliment_profile', 'compliment_cute', 'compliment_list', 'compliment_note', 'compliment_plain', 'nothing', 'compliment_funny', 'compliment_photos', 'compliment_cool', 'compliment_writer'])\n",
    "pd_reviews = pd.merge(users_pd, data, on = ['user_id'])\n",
    "pd_reviews.to_csv('reviews.csv') #index=False"
   ]
  },
  {
   "cell_type": "code",
   "execution_count": null,
   "metadata": {},
   "outputs": [],
   "source": [
    "# Loading reviews per businesses (QC) and stars per business (QC and PA)\n",
    "\n",
    "# Loading business data\n",
    "business_reviews = pd.read_json('/Users/user/Desktop/UCL_CS_Masters/datascience/coding/codes/datascience/data/yelp_academic_dataset_business.json', lines = True)\n",
    "\n",
    "# Getting metropolitan level data \n",
    "QCreviews = business_reviews[business_reviews[\"state\"] == 'QC']\n",
    "PAstars = business_reviews[business_reviews[\"state\"] == 'PA']\n",
    "\n",
    "# Getting all restaurants that serve Breakfast & Brunches\n",
    "pa_brunches = PAstars.loc[PAstars.categories.str.contains('Breakfast & Brunch', na=True)]\n",
    "qc_brunches = QCreviews.loc[QCreviews.categories.str.contains('Breakfast & Brunch', na=True)]\n",
    "\n",
    "# Removing all unnecessary columns \n",
    "qc_reviews = QCreviews[['business_id', 'review_count']]\n",
    "pa_brunches = pa_brunches[['business_id', 'stars']]\n",
    "qc_brunches = qc_brunches[['business_id', 'stars']]\n",
    "qc_reviews.to_csv('qc_reviews.csv')\n",
    "pa_reviews.to_csv('pa_brunches_stars.csv')\n",
    "qc_reviews.to_csv('qc_brunches_stars.csv')\n",
    "\n"
   ]
  }
 ]
}