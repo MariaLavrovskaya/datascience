{
 "metadata": {
  "language_info": {
   "codemirror_mode": {
    "name": "ipython",
    "version": 3
   },
   "file_extension": ".py",
   "mimetype": "text/x-python",
   "name": "python",
   "nbconvert_exporter": "python",
   "pygments_lexer": "ipython3",
   "version": "3.8.6-final"
  },
  "orig_nbformat": 2,
  "kernelspec": {
   "name": "python3",
   "display_name": "Python 3",
   "language": "python"
  }
 },
 "nbformat": 4,
 "nbformat_minor": 2,
 "cells": [
  {
   "cell_type": "code",
   "execution_count": 1,
   "metadata": {},
   "outputs": [],
   "source": [
    "import numpy as np\n",
    "import pandas as pd\n",
    "import matplotlib.pyplot as plt\n",
    "import math\n",
    "from scipy.stats import skew\n",
    "from scipy.stats import norm, kurtosis\n",
    "from scipy.stats import multivariate_normal\n",
    "from scipy.stats import norm\n",
    "from scipy import optimize\n",
    "\n",
    "from bootstrap import bootstrap\n",
    "from tail_body_likelihood import tail_body_likelihood\n",
    "%matplotlib widget\n",
    "\n",
    "np.set_printoptions(formatter={'float_kind':'{:f}'.format})\n",
    "plt.style.use(['fivethirtyeight'])\n",
    "plt.rcParams['font.family'] = 'monospace'\n",
    "plt.rcParams.update({\n",
    "    \"text.usetex\": True})"
   ]
  },
  {
   "cell_type": "code",
   "execution_count": 2,
   "metadata": {},
   "outputs": [],
   "source": [
    "#Downloading data and taking log of returns\n",
    "data = pd.read_csv('/Users/user/Desktop/UCL_CS_Masters/datascience/coding/c1/body_tail_calibration/cryptocurrency_prices.txt', header = None).iloc[0]\n",
    "data = data.str.split(pat = '\\t').tolist()\n",
    "data = [item for sublist in data for item in sublist]\n",
    "log_data = np.log(list(map(lambda x, y: float(x) / float(y), data[1:], data[0:-2])))"
   ]
  },
  {
   "cell_type": "code",
   "execution_count": 3,
   "metadata": {},
   "outputs": [
    {
     "output_type": "stream",
     "name": "stdout",
     "text": [
      "Mean 0.004 \nStandard deviation 0.04 \nSkewness -0.279 \nExcess kurtosis 5.331\n"
     ]
    }
   ],
   "source": [
    "#Compute first four moments\n",
    "N = len(log_data) #number of log returns\n",
    "mean = np.mean(log_data)\n",
    "std = np.std(log_data)\n",
    "skewness = skew(log_data)\n",
    "exc_kurtosis = kurtosis(log_data, fisher = True)\n",
    "print('Mean {:4.3f} \\nStandard deviation {:4.2f} \\nSkewness {:4.3f} \\nExcess kurtosis {:4.3f}'.format(mean, std, skewness, exc_kurtosis))"
   ]
  },
  {
   "cell_type": "code",
   "execution_count": 4,
   "metadata": {},
   "outputs": [
    {
     "output_type": "display_data",
     "data": {
      "text/plain": "Canvas(toolbar=Toolbar(toolitems=[('Home', 'Reset original view', 'home', 'home'), ('Back', 'Back to previous …",
      "application/vnd.jupyter.widget-view+json": {
       "version_major": 2,
       "version_minor": 0,
       "model_id": "fa73849e460d46f09186a0b2ae9a1ab3"
      }
     },
     "metadata": {}
    },
    {
     "output_type": "execute_result",
     "data": {
      "text/plain": [
       "(0.0001, 1)"
      ]
     },
     "metadata": {},
     "execution_count": 4
    }
   ],
   "source": [
    "#Plot of empirical PDF vs Gaussian\n",
    "x = np.linspace(min(log_data), max(log_data), 100)\n",
    "g = 1/(std*np.sqrt(2*np.pi))*np.exp(-(x-mean)**2/(2*std**2)) #Gaussian PDF values computed on point grid \n",
    "n_bins = 30 #number of bins\n",
    "\n",
    "#Plot of empirical CCDF vs Gaussian\n",
    "data_sorted = sorted(log_data, reverse=False)\n",
    "y = np.linspace(1, len(log_data), len(log_data)) #rank-frequency plot\n",
    "y = 1 - y/(len(log_data)+1) #Calculating CCDF as rank-frequency plot\n",
    "ccdf = [0.5*(1- math.erf((value-mean)/(std*math.sqrt(2)))) for value in data_sorted]\n",
    "\n",
    "fig, ax = plt.subplots(1,2)\n",
    "# fig.set_figheight(8)\n",
    "# fig.set_figwidth(10)\n",
    "ax[0].hist(log_data, n_bins-1, log=True, density=True, rwidth =0.70)\n",
    "ax[0].plot(x,g, color = 'red')\n",
    "ax[0].set_xlim([-0.4, 0.4])\n",
    "ax[0].set_ylim([0.03, 15])\n",
    "ax[0].grid(axis='y', alpha=0.35)\n",
    "ax[0].set_xlabel(r'$r$')\n",
    "ax[0].set_ylabel(r'$p(r)$')\n",
    "ax[1].semilogy(data_sorted, y)\n",
    "ax[1].semilogy(data_sorted, ccdf, color = 'Red')\n",
    "ax[1].set_ylim([1e-4, 1])"
   ]
  },
  {
   "cell_type": "code",
   "execution_count": 5,
   "metadata": {},
   "outputs": [
    {
     "output_type": "stream",
     "name": "stdout",
     "text": [
      "Right tail exponent 2.189 \nLeft tal exponent 1.635\n"
     ]
    },
    {
     "output_type": "display_data",
     "data": {
      "text/plain": "Canvas(toolbar=Toolbar(toolitems=[('Home', 'Reset original view', 'home', 'home'), ('Back', 'Back to previous …",
      "application/vnd.jupyter.widget-view+json": {
       "version_major": 2,
       "version_minor": 0,
       "model_id": "04c77bda40ba43459d644399473bdf2a"
      }
     },
     "metadata": {}
    },
    {
     "output_type": "execute_result",
     "data": {
      "text/plain": [
       "Text(0, 0.5, '\\\\textbf{$p(r)$}')"
      ]
     },
     "metadata": {},
     "execution_count": 5
    }
   ],
   "source": [
    "#Power-law dist fitting right & left tails via Maximum Likelihood\n",
    "p = 0.1 #defining tails as top (10 percent) of returns\n",
    "#Right tail \n",
    "r_sorted = sorted(log_data, reverse=False)\n",
    "r_right = r_sorted[round((1-p)*len(r_sorted)):]\n",
    "n_rright = len(r_right) #number of returns selected as right tail\n",
    "alpha_right = n_rright / sum(np.log(r_right/min(r_right)))\n",
    "\n",
    "x_right = np.linspace(min(r_right), max(r_right),100) #grid of points between min and max value at right tail \n",
    "y_right = alpha_right*(x_right/min(r_right))**(-alpha_right-1)/min(r_right)\n",
    "b_right, a_right = np.histogram(r_right, 20)\n",
    "\n",
    "#Left tail\n",
    "r_left = r_sorted[0:round((p)*len(r_sorted))]\n",
    "r_left = [abs(value) for value in r_left]\n",
    "n_rleft = len(r_left)\n",
    "alpha_left = n_rleft / sum(np.log(r_left/min(r_left)))\n",
    "x_left = np.linspace(min(r_left), max(r_left),100)\n",
    "y_left = alpha_left*(x_left/min(r_left))**(-alpha_left-1)/min(r_left)\n",
    "b_left, a_left = np.histogram(r_left, 20)\n",
    "\n",
    "#printing tail exponents\n",
    "print('Right tail exponent {:4.3F} \\nLeft tal exponent {:4.3F}'.format(alpha_right, alpha_left))\n",
    "\n",
    "#Plotting\n",
    "fig1, ax1 = plt.subplots(1, 2)\n",
    "# fig1.set_figheight(10)\n",
    "# fig1.set_figwidth(10)\n",
    "ax1[0].loglog(a_right[:-1], b_right, 'o', label = 'Empirical hist')\n",
    "ax1[0].loglog(x_right, y_right, subsx = 'auto', label = 'Power Law dist')\n",
    "ax1[0].set_title('Right tail', fontsize = 14)\n",
    "ax1[0].set_xlabel(r'\\textbf{$r$}', fontsize = 15)\n",
    "ax1[0].set_ylabel(r'\\textbf{$p(r)$}', fontsize = 15)\n",
    "ax1[0].legend(loc = 'best')\n",
    "#ax1[0].set_xscale('linear')\n",
    "\n",
    "ax1[1].loglog(a_left[:-1], b_left, 'o')\n",
    "ax1[1].loglog(x_left, y_left, subsx = 'auto')\n",
    "ax1[1].set_title('Left tail', fontsize = 14)\n",
    "ax1[1].set_xlabel(r'\\textbf{$r$}', fontsize = 15)\n",
    "ax1[1].set_ylabel(r'\\textbf{$p(r)$}', fontsize = 15)\n",
    "#ax1[1].set_xscale('linear')"
   ]
  },
  {
   "cell_type": "code",
   "execution_count": 6,
   "metadata": {},
   "outputs": [
    {
     "output_type": "stream",
     "name": "stdout",
     "text": [
      "Right tail interval at 0.90 CL: [2.077, 2.515]\nLeft tail interval at 0.90 CL: [1.496, 1.725]\n"
     ]
    },
    {
     "output_type": "display_data",
     "data": {
      "text/plain": "Canvas(toolbar=Toolbar(toolitems=[('Home', 'Reset original view', 'home', 'home'), ('Back', 'Back to previous …",
      "application/vnd.jupyter.widget-view+json": {
       "version_major": 2,
       "version_minor": 0,
       "model_id": "3ae39b23f3ab426aba64c73f08f6e376"
      }
     },
     "metadata": {}
    },
    {
     "output_type": "execute_result",
     "data": {
      "text/plain": [
       "[Text(0, 0, ''), Text(1, 0, '$\\\\alpha_R$'), Text(2, 0, '$\\\\alpha_L$')]"
      ]
     },
     "metadata": {},
     "execution_count": 6
    }
   ],
   "source": [
    "#Bootstrap analysis \n",
    "fraction = 0.8 #Fraction of data to be retained in each bootstrap sample\n",
    "n_samples = 500 #number of bootstrap samples\n",
    "ci_alpha = 0.9 #significance level\n",
    "ci_right_samples = bootstrap(log_data, 'right', p)\n",
    "ci_left_samples = bootstrap(log_data, 'left', p)\n",
    "print('Right tail interval at {:4.2f} CL: [{:4.3f}, {:4.3f}]'.format(ci_alpha, ci_right_samples[round(0.5*(1-ci_alpha)*n_samples)], ci_right_samples[round(0.5*(1+ci_alpha)*n_samples)]))\n",
    "print('Left tail interval at {:4.2f} CL: [{:4.3f}, {:4.3f}]'.format(ci_alpha, ci_left_samples[round(0.5*(1-ci_alpha)*n_samples)], ci_left_samples[round(0.5*(1+ci_alpha)*n_samples)]))\n",
    "\n",
    "#Plotting the boxplots\n",
    "labels = ['',r'$\\alpha_R$', r'$\\alpha_L$']\n",
    "x = np.arange(len(labels))\n",
    "green_diamond = dict(markerfacecolor='g', marker='D')\n",
    "fig2, ax2 = plt.subplots()\n",
    "# fig2.set_figheight(6)\n",
    "# fig2.set_figwidth(8)\n",
    "ax2.set_title('Bootstrap tail exponent values', fontsize = 14)\n",
    "ax2.boxplot([ci_right_samples, ci_left_samples], flierprops=green_diamond)\n",
    "ax2.set_xticks(x)\n",
    "ax2.set_xticklabels(labels)\n"
   ]
  },
  {
   "cell_type": "code",
   "execution_count": 7,
   "metadata": {},
   "outputs": [
    {
     "output_type": "stream",
     "name": "stdout",
     "text": [
      "Optimization terminated successfully.\n         Current function value: -946.690215\n         Iterations: 208\n         Function evaluations: 438\nParameters that maximizes likelihood: lambda = 119.4188, alpha = 0.3709, xmin = 0.0083\n"
     ]
    }
   ],
   "source": [
    "r = [abs(value) for value in log_data if value <0]\n",
    "\n",
    "penalty = 10 \n",
    "initial_params = [10,2,0.05]\n",
    "\n",
    "args = [penalty, r]\n",
    "\n",
    "par = optimize.fmin(tail_body_likelihood, args = (args[0], args[1]), x0=initial_params, xtol = 1e-12, maxiter = 1000, maxfun = 5000)\n",
    "\n",
    "lambdaa, alpha, xmin = par\n",
    "print('Parameters that maximizes likelihood: lambda = {:4.4f}, alpha = {:4.4f}, xmin = {:4.4f}'.format(lambdaa, alpha, xmin))"
   ]
  },
  {
   "cell_type": "code",
   "execution_count": 8,
   "metadata": {},
   "outputs": [
    {
     "output_type": "display_data",
     "data": {
      "text/plain": "Canvas(toolbar=Toolbar(toolitems=[('Home', 'Reset original view', 'home', 'home'), ('Back', 'Back to previous …",
      "application/vnd.jupyter.widget-view+json": {
       "version_major": 2,
       "version_minor": 0,
       "model_id": "4e71ee09171e4730a6da66aa23c750e4"
      }
     },
     "metadata": {}
    },
    {
     "output_type": "stream",
     "name": "stdout",
     "text": [
      "limits\n"
     ]
    },
    {
     "output_type": "execute_result",
     "data": {
      "text/plain": [
       "Text(0, 0.5, '$\\\\textbf{C(r)}$')"
      ]
     },
     "metadata": {},
     "execution_count": 8
    }
   ],
   "source": [
    "# Plotting empirical vs calibrated distribution \n",
    "C = 2 - np.exp(-lambdaa*xmin)\n",
    "NB = 40 #number of bins \n",
    "\n",
    "r_sorted = sorted(r)\n",
    "y = np.linspace(1, len(r_sorted), len(r_sorted)) #rank-frequency plot\n",
    "y = 1 - y/(len(r_sorted)+1)\n",
    "\n",
    "fig3, ax3 = plt.subplots(1,2)\n",
    "# fig3.set_figheight(10)\n",
    "# fig3.set_figwidth(10)\n",
    "r_binedges, r_values = np.histogram(r, NB, density=True)\n",
    "ax3[0].plot(r_values[1:], r_binedges, 'o')\n",
    "\n",
    "x4 = np.linspace(0, xmin, 1000)\n",
    "ax3[0].plot(x4, lambdaa*np.exp(-lambdaa*x4)/C, '-r')\n",
    "x4 = np.linspace(xmin, max(r), 1000)\n",
    "ax3[0].plot(x4, alpha*(x4/xmin)**(-alpha-1)/(C*xmin), '-r')\n",
    "ax3[0].axvline(xmin, color='grey', linestyle = '--')\n",
    "ax3[0].set_xlim([min(r), max(r)])\n",
    "#ax3[0].set_ylim([0,0])\n",
    "ax3[0].set_xscale('log')\n",
    "ax3[0].set_yscale('log')\n",
    "ax3[0].set_xlabel(r'$\\textbf{r}$', fontsize = 15)\n",
    "ax3[0].set_ylabel(r'$\\textbf{p(r)}$', fontsize = 15)\n",
    "print('limits')\n",
    "ax3[0].get_xlim()\n",
    "ax3[0].get_ylim()\n",
    "\n",
    "ax3[1].plot(r_sorted,y, linewidth = 0.5)\n",
    "x5 = np.linspace(min(r),xmin,1000);\n",
    "ax3[1].plot(x5, 1-(1-np.exp(-lambdaa*x5))/C, '-r')\n",
    "x6 = np.linspace(xmin, max(r_sorted)*10, 1000)\n",
    "ax3[1].plot(x6,1-(1-np.exp(-lambdaa*xmin)+1-(xmin/x6)**alpha)/C, '-r' )\n",
    "ax3[1].set_xlim([min(r_sorted), max(r_sorted)])\n",
    "ax3[1].set_xscale('log')\n",
    "ax3[1].axvline(xmin, color='grey', linestyle = '--')\n",
    "ax3[1].set_xlabel(r'$\\textbf{r}$', fontsize = 15)\n",
    "ax3[1].set_ylabel(r'$\\textbf{C(r)}$', fontsize = 15)"
   ]
  },
  {
   "cell_type": "code",
   "execution_count": null,
   "metadata": {},
   "outputs": [],
   "source": []
  }
 ]
}